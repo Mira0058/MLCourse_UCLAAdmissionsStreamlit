{
 "cells": [
  {
   "cell_type": "markdown",
   "metadata": {
    "id": "IIfOydFLJIaI"
   },
   "source": [
    "# Neural Networks"
   ]
  },
  {
   "cell_type": "markdown",
   "metadata": {
    "id": "2mPa6glm1C6R"
   },
   "source": [
    "## Predicting Chances of Admission at UCLA"
   ]
  },
  {
   "cell_type": "markdown",
   "metadata": {
    "id": "9s4YOTYtdsPc"
   },
   "source": [
    "### Project Scope:\n",
    "\n",
    "The world is developing rapidly, and continuously looking for the best knowledge and experience among people. This motivates people all around the world to stand out in their jobs and look for higher degrees that can help them in improving their skills and knowledge. As a result, the number of students applying for Master's programs has increased substantially.\n",
    "\n",
    "The current admission dataset was created for the prediction of admissions into the University of California, Los Angeles (UCLA). It was built to help students in shortlisting universities based on their profiles. The predicted output gives them a fair idea about their chances of getting accepted.\n",
    "\n",
    "\n",
    "**Your Role:**\n",
    "\n",
    "Build a classification model using **Neural Networks** to predict a student's chance of admission into UCLA.\n",
    "\n",
    "\n",
    "**Specifics:**\n",
    "* Target variable: Admit_Chance\n",
    "* Machine Learning task: Classification model\n",
    "* Input variables: Refer to data dictionary below\n",
    "* Success Criteria: Accuracy of 90% and above"
   ]
  },
  {
   "cell_type": "markdown",
   "metadata": {
    "id": "O8NO_yexzbBa"
   },
   "source": [
    "### **Data Dictionary:**\n",
    "\n",
    "The dataset contains several parameters which are considered important during the application for Masters Programs.\n",
    "The parameters included are :\n",
    "\n",
    "**GRE_Score:** (out of 340) \\\n",
    "**TOEFL_Score:** (out of 120) \\\n",
    "**University_Rating:**  It indicates the Bachelor University ranking (out of 5) \\\n",
    "**SOP:** Statement of Purpose Strength (out of 5) \\\n",
    "**LOR:** Letter of Recommendation Strength (out of 5) \\\n",
    "**CGPA:** Student's Undergraduate GPA(out of 10) \\\n",
    "**Research:** Whether the student has Research Experience (either 0 or 1) \\\n",
    "**Admit_Chance:** (ranging from 0 to 1)"
   ]
  },
  {
   "cell_type": "markdown",
   "metadata": {
    "id": "RUNw9Lh-mZHQ"
   },
   "source": [
    "### **Loading the libraries and the dataset**"
   ]
  },
  {
   "cell_type": "code",
   "execution_count": null,
   "metadata": {
    "id": "CK_nbUDBmX2E"
   },
   "outputs": [],
   "source": [
    "import numpy as np\n",
    "import pandas as pd\n",
    "import matplotlib.pyplot as plt\n",
    "import seaborn as sns\n",
    "\n",
    "\n",
    "import warnings\n",
    "warnings.filterwarnings(\"ignore\")\n"
   ]
  },
  {
   "cell_type": "code",
   "execution_count": null,
   "metadata": {
    "colab": {
     "base_uri": "https://localhost:8080/",
     "height": 206
    },
    "id": "cF6d_Z6B2CpB",
    "outputId": "036c25f7-d0c7-49ca-ae41-4112600a6992"
   },
   "outputs": [],
   "source": [
    "# load the data using the pandas `read_csv()` function.\n",
    "data = pd.read_csv('Admission.csv')\n",
    "data.head()"
   ]
  },
  {
   "cell_type": "markdown",
   "metadata": {
    "id": "yVsWWzVw2brU"
   },
   "source": [
    "- In the above dataset, the target variable is **Admit_Chance**\n",
    "- To make this a classification task, let's convert the target variable into a categorical variable by using a threshold of 80%\n",
    "- We are assuming that if **Admit_Chance** is more than 80% then chance of **Admit** would be 1 (i.e. yes) otherwise it would be 0 (i.e. no)"
   ]
  },
  {
   "cell_type": "code",
   "execution_count": null,
   "metadata": {
    "id": "Raz_RbWH1C6U"
   },
   "outputs": [],
   "source": [
    "# Converting the target variable into a categorical variable\n",
    "data['Admit_Chance']=(data['Admit_Chance'] >=0.8).astype(int)"
   ]
  },
  {
   "cell_type": "code",
   "execution_count": null,
   "metadata": {
    "colab": {
     "base_uri": "https://localhost:8080/",
     "height": 206
    },
    "id": "BtowpbE11C6V",
    "outputId": "3f8d8d95-6e8f-4660-c9a3-7f474b2abf4d"
   },
   "outputs": [],
   "source": [
    "data.head()"
   ]
  },
  {
   "cell_type": "markdown",
   "metadata": {
    "id": "eWrMDyDD1C6V"
   },
   "source": [
    "#### Drop any unnecessary columns"
   ]
  },
  {
   "cell_type": "code",
   "execution_count": null,
   "metadata": {
    "id": "XGCid1us3jRJ"
   },
   "outputs": [],
   "source": [
    "# Dropping columns\n",
    "data = data.drop(['Serial_No'], axis=1)\n",
    "data.head()"
   ]
  },
  {
   "cell_type": "markdown",
   "metadata": {
    "id": "VxPbTdpkC-ax"
   },
   "source": [
    "Let's check the info of the data"
   ]
  },
  {
   "cell_type": "code",
   "execution_count": null,
   "metadata": {
    "colab": {
     "base_uri": "https://localhost:8080/"
    },
    "id": "SlCYRI1n1C6V",
    "outputId": "8245c5aa-0483-424a-e642-035f8fb7e66c"
   },
   "outputs": [],
   "source": [
    "data.shape"
   ]
  },
  {
   "cell_type": "code",
   "execution_count": null,
   "metadata": {
    "colab": {
     "base_uri": "https://localhost:8080/"
    },
    "id": "Y5wPX0lb3wRU",
    "outputId": "31c7fe8b-9a52-44da-ad51-b3d111ba03ea"
   },
   "outputs": [],
   "source": [
    "data.info()"
   ]
  },
  {
   "cell_type": "code",
   "execution_count": null,
   "metadata": {
    "colab": {
     "base_uri": "https://localhost:8080/"
    },
    "id": "DZiIwpW9uHg0",
    "outputId": "e6786609-29cc-446c-f5ee-a44128d0bb85"
   },
   "outputs": [],
   "source": [
    "data.SOP.unique()"
   ]
  },
  {
   "cell_type": "code",
   "execution_count": null,
   "metadata": {
    "colab": {
     "base_uri": "https://localhost:8080/"
    },
    "id": "pAp9LirBsg_h",
    "outputId": "3c6b02a1-40a3-4b98-8b42-14aab40fed50"
   },
   "outputs": [],
   "source": [
    "data.CGPA.unique()"
   ]
  },
  {
   "cell_type": "markdown",
   "metadata": {
    "id": "cBQS9b56DC2_"
   },
   "source": [
    "**Observations:**\n",
    "\n",
    "- There are **500 observations and 8 columns** in the data\n",
    "- All the columns are of **numeric data** type.\n",
    "- There are **no missing values** in the data"
   ]
  },
  {
   "cell_type": "markdown",
   "metadata": {
    "id": "knC7NPjGDqJ8"
   },
   "source": [
    "Let's check the summary statistics of the data"
   ]
  },
  {
   "cell_type": "code",
   "execution_count": null,
   "metadata": {
    "colab": {
     "base_uri": "https://localhost:8080/",
     "height": 300
    },
    "id": "WpdM4iC0DwPJ",
    "outputId": "374eb575-2c52-409f-9a7e-92499ba12db6"
   },
   "outputs": [],
   "source": [
    "data.describe()"
   ]
  },
  {
   "cell_type": "markdown",
   "metadata": {
    "id": "Dwro2RclD222"
   },
   "source": [
    "**Observations:**\n",
    "\n",
    "- The average GRE score of students applying for UCLA is ~316 out of 340. Some students scored full marks on GRE.\n",
    "-  The average TOEFL score of students applying for UCLA is ~107 out of 120. Some students scored full marks on TOEFL.\n",
    "- There are students with all kinds of ratings for bachelor's University, SOP, and LOR - ratings ranging from 1 to 5.\n",
    "-  The average CGPA of students applying for UCLA is 8.57.\n",
    "- Majority of students (~56%) have research experience.\n",
    "- As per our assumption, on average 31% of students would get admission to UCLA."
   ]
  },
  {
   "cell_type": "markdown",
   "metadata": {
    "id": "fhotGVGD4hgT"
   },
   "source": [
    "### **Let's visualize the dataset to see some patterns**"
   ]
  },
  {
   "cell_type": "code",
   "execution_count": null,
   "metadata": {
    "colab": {
     "base_uri": "https://localhost:8080/",
     "height": 300
    },
    "id": "45a6xm7evbmm",
    "outputId": "d1f15e44-4c9e-44ef-cd61-ba43869c46bd"
   },
   "outputs": [],
   "source": [
    "data.corr()"
   ]
  },
  {
   "cell_type": "code",
   "execution_count": null,
   "metadata": {
    "colab": {
     "base_uri": "https://localhost:8080/",
     "height": 696
    },
    "id": "vwTqs3205Zk6",
    "outputId": "ae1f634d-a41d-4f32-abb0-42247906ec6f"
   },
   "outputs": [],
   "source": [
    "plt.figure(figsize=(15,8))\n",
    "sns.scatterplot(data=data,\n",
    "           x='GRE_Score',\n",
    "           y='TOEFL_Score',\n",
    "           hue='Admit_Chance');"
   ]
  },
  {
   "cell_type": "markdown",
   "metadata": {
    "id": "csxwJUu4Kmj4"
   },
   "source": [
    "**Observations:**\n",
    "\n",
    "- There is a linear relationship between GRE and TOEFL scores. This implies that students scoring high in one of them would score high in the other as well.\n",
    "- We can see a distinction between students who were admitted (denoted by orange) vs those who were not admitted (denoted by blue). We can see that majority of students who were admitted have GRE score greater than 320, TOEFL score greater than 105."
   ]
  },
  {
   "cell_type": "markdown",
   "metadata": {
    "id": "ZZP_r2sD7B0P"
   },
   "source": [
    "### **Data Preparation**"
   ]
  },
  {
   "cell_type": "markdown",
   "metadata": {
    "id": "5N2uA8r4MwX6"
   },
   "source": [
    "This dataset contains both numerical and categorical variables. We need to treat them first before we pass them onto the neural network. We will perform below pre-processing steps -\n",
    "*   One hot encoding of categorical variables\n",
    "*   Scaling numerical variables\n",
    "\n",
    "An important point to remember: Before we scale numerical variables, we would first split the dataset into train and test datasets and perform scaling separately. Otherwise, we would be leaking information from the test data to the train data and the resulting model might give a false sense of good performance. This is known as **data leakage** which we would want to avoid."
   ]
  },
  {
   "cell_type": "markdown",
   "metadata": {
    "id": "8kYCXX6UN7rE"
   },
   "source": [
    "In this dataset, although the variable **University Rating** is encoded as a numerical variable. But it is denoting or signifying the quality of the university, so that is why this is a categorical variable and we would be creating one-hot encoding or dummy variables for this variable."
   ]
  },
  {
   "cell_type": "code",
   "execution_count": null,
   "metadata": {
    "colab": {
     "base_uri": "https://localhost:8080/"
    },
    "id": "bnAf29QqPjNW",
    "outputId": "e41ef174-a33a-4444-cbc0-787b1f80e049"
   },
   "outputs": [],
   "source": [
    "data.info()"
   ]
  },
  {
   "cell_type": "code",
   "execution_count": null,
   "metadata": {
    "id": "OhyPDAwoPlJ5"
   },
   "outputs": [],
   "source": [
    "# get unique values for LOR\n",
    "data['CGPA'].unique()"
   ]
  },
  {
   "cell_type": "code",
   "execution_count": null,
   "metadata": {
    "colab": {
     "base_uri": "https://localhost:8080/"
    },
    "id": "zlxdGKr7P3ZD",
    "outputId": "970c60b4-f2ad-400a-c05a-6609c358ffdf"
   },
   "outputs": [],
   "source": [
    "# convert University_Rating to categorical type\n",
    "data['University_Rating'] = data['University_Rating'].astype('object')\n",
    "data['Research'] = data['Research'].astype('object')\n",
    "\n",
    "# don't do this beacuse MLPClassifier expects the target variable to be of numeric type (int or float), representing different classes.\n",
    "# data['Admit_Chance'] = data['Admit_Chance'].astype('object')\n",
    "data.info()"
   ]
  },
  {
   "cell_type": "code",
   "execution_count": null,
   "metadata": {
    "colab": {
     "base_uri": "https://localhost:8080/",
     "height": 206
    },
    "id": "xFdUSfX71C6X",
    "outputId": "a43c50b2-9113-4449-ec7a-1c410c96872a"
   },
   "outputs": [],
   "source": [
    "data.head()"
   ]
  },
  {
   "cell_type": "code",
   "execution_count": null,
   "metadata": {
    "colab": {
     "base_uri": "https://localhost:8080/",
     "height": 132
    },
    "id": "FHbuFLR-7EeE",
    "outputId": "4a038124-0cdf-4fa4-9e3f-1803ab469306"
   },
   "outputs": [],
   "source": [
    "# Create dummy variables for all 'object' type variables except 'Loan_Status'\n",
    "clean_data = pd.get_dummies(data, columns=['University_Rating','Research'],dtype='int')\n",
    "clean_data.head(2)"
   ]
  },
  {
   "cell_type": "markdown",
   "metadata": {
    "id": "M3O6DOWXOWkn"
   },
   "source": [
    "### Split the Data into train and test"
   ]
  },
  {
   "cell_type": "code",
   "execution_count": null,
   "metadata": {
    "id": "7MQ2juQB8IuT"
   },
   "outputs": [],
   "source": [
    "x = clean_data.drop(['Admit_Chance'], axis=1)\n",
    "y = clean_data['Admit_Chance']"
   ]
  },
  {
   "cell_type": "code",
   "execution_count": null,
   "metadata": {
    "id": "1ElK5gpC1C6Y"
   },
   "outputs": [],
   "source": [
    "# split the data\n",
    "from sklearn.model_selection import train_test_split"
   ]
  },
  {
   "cell_type": "code",
   "execution_count": null,
   "metadata": {
    "id": "I8fE8aF_7hJY"
   },
   "outputs": [],
   "source": [
    "# Splitting the dataset into train and test data\n",
    "xtrain, xtest, ytrain, ytest =  train_test_split(x, y, test_size=0.2, random_state=123, stratify=y)"
   ]
  },
  {
   "cell_type": "code",
   "execution_count": null,
   "metadata": {
    "id": "dXLfQ5xJ1C6Z"
   },
   "outputs": [],
   "source": [
    "# import standard scaler\n",
    "from sklearn.preprocessing import MinMaxScaler"
   ]
  },
  {
   "cell_type": "markdown",
   "metadata": {
    "id": "U883DzGZOwpp"
   },
   "source": [
    "Now, we will perform scaling on the numerical variables separately for train and test sets. We will use `.fit` to calculate the mean and standard deviation and `.transform` to transform the data."
   ]
  },
  {
   "cell_type": "code",
   "execution_count": null,
   "metadata": {
    "colab": {
     "base_uri": "https://localhost:8080/",
     "height": 80
    },
    "id": "kmdarGky1C6Z",
    "outputId": "519b36b8-8ac0-44b4-bcb3-d26f71ff91a5"
   },
   "outputs": [],
   "source": [
    "# fit calculates the mean and standard deviation\n",
    "scaler = MinMaxScaler()\n",
    "scaler.fit(xtrain)"
   ]
  },
  {
   "cell_type": "code",
   "execution_count": null,
   "metadata": {
    "colab": {
     "base_uri": "https://localhost:8080/"
    },
    "id": "0awOBWcwSCBx",
    "outputId": "a9383bb1-48e2-4cfe-db17-1f764bd4de81"
   },
   "outputs": [],
   "source": [
    "scaler.data_max_"
   ]
  },
  {
   "cell_type": "code",
   "execution_count": null,
   "metadata": {
    "colab": {
     "base_uri": "https://localhost:8080/"
    },
    "id": "n-ACjP83SKOK",
    "outputId": "1b2c03d4-6431-48ae-8a27-9fe858fc70fd"
   },
   "outputs": [],
   "source": [
    "scaler.data_min_"
   ]
  },
  {
   "cell_type": "code",
   "execution_count": null,
   "metadata": {
    "id": "Kp7zmOqy1C6Z"
   },
   "outputs": [],
   "source": [
    "# Now transform xtrain and xtest\n",
    "xtrain_scaled = scaler.transform(xtrain)\n",
    "xtest_scaled = scaler.transform(xtest)"
   ]
  },
  {
   "cell_type": "code",
   "execution_count": null,
   "metadata": {
    "id": "XE_mmxENzQB_"
   },
   "outputs": [],
   "source": [
    "# xtrain_scaled_df = pd.DataFrame(xtrain_scaled, columns=xtrain.columns)\n",
    "# xtrain_scaled_df.head()"
   ]
  },
  {
   "cell_type": "code",
   "execution_count": null,
   "metadata": {
    "id": "IDlJ3KkVzZIk"
   },
   "outputs": [],
   "source": [
    "# xtrain_scaled_df.describe()"
   ]
  },
  {
   "cell_type": "markdown",
   "metadata": {
    "id": "LtOumLVL1C6Z"
   },
   "source": [
    "plt.subplot(2,2,1)\n",
    "sns.distplot(data['GRE_Score'])\n",
    "\n",
    "plt.subplot(2,2,2)\n",
    "sns.distplot(Xtrain[:,0])\n",
    "\n",
    "plt.subplot(2,2,3)\n",
    "sns.distplot(data['TOEFL_Score'])\n",
    "\n",
    "plt.subplot(2,2,4)\n",
    "sns.distplot(Xtrain[:,1])\n",
    "\n",
    "plt.show()"
   ]
  },
  {
   "cell_type": "markdown",
   "metadata": {
    "id": "X7VT_t5f9bwR"
   },
   "source": [
    "## **Neural Network Architecture**"
   ]
  },
  {
   "cell_type": "markdown",
   "metadata": {
    "id": "hbltijMlPVVP"
   },
   "source": [
    "In neural networks, there are so many hyper-parameters that you can play around with and tune the network to get the best results. Some of them are -\n",
    "\n",
    "\n",
    "\n",
    "1.   Number of hidden layers\n",
    "2.   Number of neurons in each hidden layer\n",
    "3.   Activation functions in hidden layers\n",
    "4.   Batch size\n",
    "5.   Learning rate\n",
    "6.   Dropout"
   ]
  },
  {
   "cell_type": "code",
   "execution_count": null,
   "metadata": {
    "id": "5f4Pw-vb1C6a"
   },
   "outputs": [],
   "source": [
    "# import the model\n",
    "from sklearn.neural_network import MLPClassifier"
   ]
  },
  {
   "cell_type": "markdown",
   "metadata": {
    "id": "tLsxcmgPQ_cG"
   },
   "source": [
    "#### For this exercise, let's build a feed forward neural network with 2 hidden layers. Remeber, always start small."
   ]
  },
  {
   "cell_type": "markdown",
   "metadata": {
    "id": "4N6XAn6mA_BD"
   },
   "source": [
    "### **Training the model**"
   ]
  },
  {
   "cell_type": "code",
   "execution_count": null,
   "metadata": {
    "id": "lSjx0ddSW37B"
   },
   "outputs": [],
   "source": [
    "del MLP"
   ]
  },
  {
   "cell_type": "code",
   "execution_count": null,
   "metadata": {
    "colab": {
     "base_uri": "https://localhost:8080/",
     "height": 80
    },
    "id": "JNZGHpSk1C6f",
    "outputId": "f7a5aee4-c3c6-42e8-bae9-af801b17f19f"
   },
   "outputs": [],
   "source": [
    "# fit/train the model. Check batch size.\n",
    "MLP = MLPClassifier(hidden_layer_sizes=(3,3), batch_size=50, max_iter=200, random_state=123)\n",
    "MLP.fit(xtrain_scaled,ytrain)"
   ]
  },
  {
   "cell_type": "code",
   "execution_count": null,
   "metadata": {
    "colab": {
     "base_uri": "https://localhost:8080/"
    },
    "id": "gnEr09vo2dzT",
    "outputId": "de6985bd-b200-41e9-d73e-ceeeaec70be9"
   },
   "outputs": [],
   "source": [
    "# make predictions on train\n",
    "ypred_train = MLP.predict(xtrain_scaled)\n",
    "\n",
    "# check accuracy of the model\n",
    "accuracy_score(ytrain, ypred_train)"
   ]
  },
  {
   "cell_type": "code",
   "execution_count": null,
   "metadata": {
    "id": "tWQ1HR7K1C6f"
   },
   "outputs": [],
   "source": [
    "# make Predictions\n",
    "ypred = MLP.predict(xtest_scaled)"
   ]
  },
  {
   "cell_type": "code",
   "execution_count": null,
   "metadata": {
    "id": "WKcZyz471C6g"
   },
   "outputs": [],
   "source": [
    "# import evaluation metrices\n",
    "from sklearn.metrics import confusion_matrix, accuracy_score"
   ]
  },
  {
   "cell_type": "code",
   "execution_count": null,
   "metadata": {
    "colab": {
     "base_uri": "https://localhost:8080/"
    },
    "id": "HDlJMUYk1C6g",
    "outputId": "86afc3c1-9c28-4c96-882d-668d0decc870"
   },
   "outputs": [],
   "source": [
    "# check accuracy of the model\n",
    "accuracy_score(ytest, ypred)"
   ]
  },
  {
   "cell_type": "code",
   "execution_count": null,
   "metadata": {
    "colab": {
     "base_uri": "https://localhost:8080/"
    },
    "id": "M50ucMKv1C6g",
    "outputId": "ba050f56-490b-4f32-d829-2413ddd0fbc2"
   },
   "outputs": [],
   "source": [
    "confusion_matrix(ytest, ypred)"
   ]
  },
  {
   "cell_type": "code",
   "execution_count": null,
   "metadata": {
    "colab": {
     "base_uri": "https://localhost:8080/",
     "height": 564
    },
    "id": "1Prc6-_u1C6g",
    "outputId": "a0227fab-e470-4942-a7f9-19977ca6cecf"
   },
   "outputs": [],
   "source": [
    "# Plotting loss curve\n",
    "loss_values = MLP.loss_curve_\n",
    "\n",
    "# Plotting the loss curve\n",
    "plt.figure(figsize=(10, 6))\n",
    "plt.plot(loss_values, label='Loss', color='blue')\n",
    "plt.title('Loss Curve')\n",
    "plt.xlabel('Iterations')\n",
    "plt.ylabel('Loss')\n",
    "plt.legend()\n",
    "plt.grid(True)\n",
    "plt.show()"
   ]
  },
  {
   "cell_type": "markdown",
   "metadata": {
    "id": "1bVzop-DYYmv"
   },
   "source": [
    "### **Conclusion**"
   ]
  },
  {
   "cell_type": "markdown",
   "metadata": {
    "id": "PiMgKE2xYbCW"
   },
   "source": [
    "In this case study,\n",
    "\n",
    "- We have learned how to build a neural network for a classification task.\n",
    "- **Can you think of a reason why, we could get such low accuracy?**\n",
    "- You can further analyze the misclassified points and see if there is a pattern or if they were outliers that our model could not identify."
   ]
  }
 ],
 "metadata": {
  "colab": {
   "provenance": []
  },
  "kernelspec": {
   "display_name": "Python 3 (ipykernel)",
   "language": "python",
   "name": "python3"
  },
  "language_info": {
   "codemirror_mode": {
    "name": "ipython",
    "version": 3
   },
   "file_extension": ".py",
   "mimetype": "text/x-python",
   "name": "python",
   "nbconvert_exporter": "python",
   "pygments_lexer": "ipython3",
   "version": "3.12.4"
  }
 },
 "nbformat": 4,
 "nbformat_minor": 4
}
